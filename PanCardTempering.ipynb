{
  "nbformat": 4,
  "nbformat_minor": 0,
  "metadata": {
    "colab": {
      "name": "PanCardTempering.ipynb",
      "provenance": [],
      "authorship_tag": "ABX9TyPB/eaSLHnQZ9CKG0zFY/fl",
      "include_colab_link": true
    },
    "kernelspec": {
      "name": "python3",
      "display_name": "Python 3"
    },
    "language_info": {
      "name": "python"
    }
  },
  "cells": [
    {
      "cell_type": "markdown",
      "metadata": {
        "id": "view-in-github",
        "colab_type": "text"
      },
      "source": [
        "<a href=\"https://colab.research.google.com/github/rawatshubham09/Pancard-Tampering-Detection/blob/main/PanCardTempering.ipynb\" target=\"_parent\"><img src=\"https://colab.research.google.com/assets/colab-badge.svg\" alt=\"Open In Colab\"/></a>"
      ]
    },
    {
      "cell_type": "markdown",
      "metadata": {
        "id": "3CrfQeCx9XnR"
      },
      "source": [
        "# Pan Card Tampering Detecation"
      ]
    },
    {
      "cell_type": "markdown",
      "metadata": {
        "id": "7zwa0n4U9j99"
      },
      "source": [
        ""
      ]
    },
    {
      "cell_type": "markdown",
      "metadata": {
        "id": "_WanlPGB9kBB"
      },
      "source": [
        "The purpose of this Project to creat Tampered Pan card detector using Computer Vision. This will help any one to detect wether Pan Card is real or fake or we can say wether the persion in named card is exist or not."
      ]
    },
    {
      "cell_type": "markdown",
      "metadata": {
        "id": "O6nvaOoV-SES"
      },
      "source": [
        "## Importing Required Libraries"
      ]
    },
    {
      "cell_type": "code",
      "metadata": {
        "id": "WnxccaDl9Uzp"
      },
      "source": [
        "from skimage.metrics import structural_similarity  #compare image and generate score\n",
        "import imutils # grabing contor image\n",
        "import cv2\n",
        "from PIL import Image # use for downloading images\n",
        "import requests  #for URL request"
      ],
      "execution_count": 2,
      "outputs": []
    },
    {
      "cell_type": "code",
      "metadata": {
        "id": "9k6r71qaz_PK"
      },
      "source": [
        "!mkdir pan_card_tampering\n",
        "!mkdir pan_card_tampering/Images"
      ],
      "execution_count": 3,
      "outputs": []
    },
    {
      "cell_type": "markdown",
      "metadata": {
        "id": "4XanM-dhCz3c"
      },
      "source": [
        "- Adding Images in collab"
      ]
    },
    {
      "cell_type": "code",
      "metadata": {
        "id": "uzl6iJGWFdjc"
      },
      "source": [
        "original = Image.open(requests.get('https://www.thestatesman.com/wp-content/uploads/2019/07/pan-card.jpg', stream=True).raw)\n",
        "tampered = Image.open(requests.get('https://assets1.cleartax-cdn.com/s/img/20170526124335/Pan4.png', stream=True).raw) "
      ],
      "execution_count": 7,
      "outputs": []
    },
    {
      "cell_type": "code",
      "metadata": {
        "colab": {
          "base_uri": "https://localhost:8080/",
          "height": 248
        },
        "id": "6u5KroKNFh0G",
        "outputId": "871b44b7-514e-4a0d-e52d-6cef251a93a2"
      },
      "source": [
        "# printing Image Formate and size\n",
        "print(\"Orignal Image Formate : \", original.format)\n",
        "print(\"Tampered Images Formate : \", tampered.formate)\n",
        "print(\"-\"*40)\n",
        "print(\"Orignal Image Size :\", original.size)\n",
        "print(\"Tampered Image Size : \", tampered.size)"
      ],
      "execution_count": 8,
      "outputs": [
        {
          "output_type": "stream",
          "name": "stdout",
          "text": [
            "Orignal Image Formate :  JPEG\n"
          ]
        },
        {
          "output_type": "error",
          "ename": "AttributeError",
          "evalue": "ignored",
          "traceback": [
            "\u001b[0;31m---------------------------------------------------------------------------\u001b[0m",
            "\u001b[0;31mAttributeError\u001b[0m                            Traceback (most recent call last)",
            "\u001b[0;32m<ipython-input-8-95dace06bc65>\u001b[0m in \u001b[0;36m<module>\u001b[0;34m()\u001b[0m\n\u001b[1;32m      1\u001b[0m \u001b[0;31m# printing Image Formate and size\u001b[0m\u001b[0;34m\u001b[0m\u001b[0;34m\u001b[0m\u001b[0;34m\u001b[0m\u001b[0m\n\u001b[1;32m      2\u001b[0m \u001b[0mprint\u001b[0m\u001b[0;34m(\u001b[0m\u001b[0;34m\"Orignal Image Formate : \"\u001b[0m\u001b[0;34m,\u001b[0m \u001b[0moriginal\u001b[0m\u001b[0;34m.\u001b[0m\u001b[0mformat\u001b[0m\u001b[0;34m)\u001b[0m\u001b[0;34m\u001b[0m\u001b[0;34m\u001b[0m\u001b[0m\n\u001b[0;32m----> 3\u001b[0;31m \u001b[0mprint\u001b[0m\u001b[0;34m(\u001b[0m\u001b[0;34m\"Tampered Images Formate : \"\u001b[0m\u001b[0;34m,\u001b[0m \u001b[0mtampered\u001b[0m\u001b[0;34m.\u001b[0m\u001b[0mformate\u001b[0m\u001b[0;34m)\u001b[0m\u001b[0;34m\u001b[0m\u001b[0;34m\u001b[0m\u001b[0m\n\u001b[0m\u001b[1;32m      4\u001b[0m \u001b[0mprint\u001b[0m\u001b[0;34m(\u001b[0m\u001b[0;34m\"-\"\u001b[0m\u001b[0;34m*\u001b[0m\u001b[0;36m40\u001b[0m\u001b[0;34m)\u001b[0m\u001b[0;34m\u001b[0m\u001b[0;34m\u001b[0m\u001b[0m\n\u001b[1;32m      5\u001b[0m \u001b[0mprint\u001b[0m\u001b[0;34m(\u001b[0m\u001b[0;34m\"Orignal Image Size :\"\u001b[0m\u001b[0;34m,\u001b[0m \u001b[0moriginal\u001b[0m\u001b[0;34m.\u001b[0m\u001b[0msize\u001b[0m\u001b[0;34m)\u001b[0m\u001b[0;34m\u001b[0m\u001b[0;34m\u001b[0m\u001b[0m\n",
            "\u001b[0;31mAttributeError\u001b[0m: 'PngImageFile' object has no attribute 'formate'"
          ]
        }
      ]
    },
    {
      "cell_type": "code",
      "metadata": {
        "id": "4ND1SgV6Hcyp"
      },
      "source": [
        ""
      ],
      "execution_count": null,
      "outputs": []
    }
  ]
}