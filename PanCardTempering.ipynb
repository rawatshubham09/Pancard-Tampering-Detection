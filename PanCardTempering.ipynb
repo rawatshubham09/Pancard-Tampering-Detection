{
  "nbformat": 4,
  "nbformat_minor": 0,
  "metadata": {
    "colab": {
      "name": "PanCardTempering.ipynb",
      "provenance": [],
      "authorship_tag": "ABX9TyPQyhvvqs00KhkzSxo6tab/",
      "include_colab_link": true
    },
    "kernelspec": {
      "name": "python3",
      "display_name": "Python 3"
    },
    "language_info": {
      "name": "python"
    }
  },
  "cells": [
    {
      "cell_type": "markdown",
      "metadata": {
        "id": "view-in-github",
        "colab_type": "text"
      },
      "source": [
        "<a href=\"https://colab.research.google.com/github/rawatshubham09/Pancard-Tampering-Detection/blob/main/PanCardTempering.ipynb\" target=\"_parent\"><img src=\"https://colab.research.google.com/assets/colab-badge.svg\" alt=\"Open In Colab\"/></a>"
      ]
    },
    {
      "cell_type": "code",
      "metadata": {
        "colab": {
          "base_uri": "https://localhost:8080/"
        },
        "id": "9k6r71qaz_PK",
        "outputId": "b44eb362-c3cc-40b6-c856-338beaa91127"
      },
      "source": [
        "print(\"hellow\")"
      ],
      "execution_count": 1,
      "outputs": [
        {
          "output_type": "stream",
          "name": "stdout",
          "text": [
            "hellow\n"
          ]
        }
      ]
    }
  ]
}